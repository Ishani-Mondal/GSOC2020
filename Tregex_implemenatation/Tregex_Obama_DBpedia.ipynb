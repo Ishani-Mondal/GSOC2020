{
 "cells": [
  {
   "cell_type": "code",
   "execution_count": null,
   "metadata": {},
   "outputs": [],
   "source": [
    "import os\n",
    "from nltk.parse import CoreNLPParser\n",
    "from nltk.tree import ParentedTree, Tree\n",
    "from conllu.conllu import parse_single"
   ]
  },
  {
   "cell_type": "code",
   "execution_count": 161,
   "metadata": {},
   "outputs": [],
   "source": [
    "class ExtractTriples(object):\n",
    "\n",
    "    VERBS = ['VB', 'VBD', 'VBG', 'VBN', 'VBP', 'VBZ']\n",
    "    NOUNS = ['NN', 'NNS', 'NNP', 'NNPS']\n",
    "\n",
    "    def __init__(self, filepath_to_conll=None):\n",
    "        self.filepath_to_conll = None\n",
    "        self.tokenlist = None\n",
    "        self.tokenTree = None\n",
    "        if filepath_to_conll:\n",
    "            self.filepath_to_conll = filepath_to_conll\n",
    "            data_file = open(filepath_to_conll, \"r\")\n",
    "            self.tokenlist = parse_single(data_file)\n",
    "            self.tokenTree = self.tokenlist[0].to_tree()\n",
    "            print(self.tokenTree)\n",
    "\n",
    "\n",
    "    def find_subject(self, t): \n",
    "        for s in t.subtrees(lambda t: t.label() == 'NP'):\n",
    "            for n in s.subtrees(lambda n: n.label().startswith('NN')):\n",
    "                #print(n[0], self.find_attrs(n))\n",
    "                return (n[0], self.find_attrs(n))\n",
    "                # return n[0]\n",
    "                \n",
    "    def find_predicate(self, t):    \n",
    "        v = None\n",
    "        \n",
    "        for s in t.subtrees(lambda t: t.label() == 'VP'):\n",
    "            for n in s.subtrees(lambda n: n.label().startswith('VB')):\n",
    "                v = n\n",
    "            return (v[0], self.find_attrs(v))\n",
    "            # return v[0]\n",
    "        \n",
    "    def find_object(self,t):    \n",
    "        for s in t.subtrees(lambda t: t.label() == 'VP'):\n",
    "            for n in s.subtrees(lambda n: n.label() in ['NP', 'PP', 'ADJP']):\n",
    "                if n.label() in ['NP', 'PP']:\n",
    "                    for c in n.subtrees(lambda c: c.label().startswith('NN')):\n",
    "                        return (c[0], self.find_attrs(c))\n",
    "                        # return c[0]\n",
    "                else:\n",
    "                    for c in n.subtrees(lambda c: c.label().startswith('JJ')):\n",
    "                        return (c[0], self.find_attrs(c))\n",
    "                        # return c[0]\n",
    "                    \n",
    "    def find_attrs(self, node):\n",
    "        attrs = []\n",
    "        p = node.parent()\n",
    "        \n",
    "        # Search siblings\n",
    "        if node.label().startswith('JJ'):\n",
    "            for s in p:\n",
    "                if s.label() == 'RB':\n",
    "                    attrs.append(s[0])\n",
    "                    \n",
    "        elif node.label().startswith('NN'):\n",
    "            for s in p:\n",
    "                if s.label() in ['DT','PRP$','POS','JJ','CD','ADJP','QP','NP','NNP']:\n",
    "                    attrs.append(' '.join(s.flatten()))\n",
    "        \n",
    "        elif node.label().startswith('VB'):\n",
    "            for s in p:\n",
    "                if s.label() == 'ADVP':\n",
    "                    attrs.append(' '.join(s.flatten()))\n",
    "                    \n",
    "        # Search uncles\n",
    "        if node.label().startswith('JJ') or node.label().startswith('NN'):\n",
    "            for s in p.parent():\n",
    "                if s != p and s.label() == 'PP':\n",
    "                    attrs.append(' '.join(s.flatten()))\n",
    "                    \n",
    "        elif node.label().startswith('VB'):\n",
    "            for s in p.parent():\n",
    "                if s != p and s.label().startswith('VB'):\n",
    "                    attrs.append(s[0])\n",
    "                    \n",
    "        return attrs\n",
    "\n",
    "    def main(self, sentence):\n",
    "        subject = self.find_subject(sentence)\n",
    "        predicate = self.find_predicate(sentence)\n",
    "        object_ = self.find_object(sentence)\n",
    "        return (subject, predicate, object_)\n",
    "        \n",
    "    "
   ]
  },
  {
   "cell_type": "code",
   "execution_count": 162,
   "metadata": {},
   "outputs": [],
   "source": [
    "textraction = ExtractTriples()"
   ]
  },
  {
   "cell_type": "code",
   "execution_count": 163,
   "metadata": {},
   "outputs": [
    {
     "name": "stdout",
     "output_type": "stream",
     "text": [
      "Barack Hussein Obama II is an American politician who is the 44th and current President of the United States.\n",
      "((u'Barack', [u'Barack', u'Hussein', u'Obama', u'II']), (u'is', []), (u'politician', [u'an', u'American']))\n",
      "He is the first African American to hold the office and the first president born outside the continental United States.\n",
      "((u'office', [u'the']), (u'born', []), (u'office', [u'the']))\n",
      "Born in Honolulu, Hawaii, Obama is a graduate of Columbia University and Harvard Law School, where he was president of the Harvard Law Review.\n",
      "((u'Honolulu', [u'Honolulu', u'Hawaii']), (u'Born', []), (u'Honolulu', [u'Honolulu', u'Hawaii']))\n",
      "He was a community organizer in Chicago before earning his law degree.\n",
      "((u'community', [u'a', u'in Chicago']), (u'earning', []), (u'community', [u'a', u'in Chicago']))\n",
      "He worked as a civil rights attorney and taught constitutional law at the University of Chicago Law School between 1992 and 2004.\n",
      "((u'rights', [u'a', u'civil']), (u'taught', []), (u'rights', [u'a', u'civil']))\n",
      "While serving three terms representing the 13th District in the Illinois Senate from 1997 to 2004, he ran unsuccessfully in the Democratic primary for the United States Hou\n",
      "((u'terms', [u'three']), (u'representing', []), (u'terms', [u'three']))\n"
     ]
    }
   ],
   "source": [
    "#sentences=['Barack Hussein Obama II (US /bəˈrɑːk huːˈseɪn oʊˈbɑːmə/; born August 4, 1961) is an American politician who is the 44th and current President of the United States. He is the first African American to hold the office and the first president born outside the continental United States. Born in Honolulu, Hawaii, Obama is a graduate of Columbia University and Harvard Law School, where he was president of the Harvard Law Review. He was a community organizer in Chicago before earning his law degree. He worked as a civil rights attorney and taught constitutional law at the University of Chicago Law School between 1992 and 2004. While serving three terms representing the 13th District in the Illinois Senate from 1997 to 2004, he ran unsuccessfully in the Democratic primary for the United States Hou']\n",
    "from nltk.tokenize import sent_tokenize\n",
    "text = \"Barack Hussein Obama II is an American politician who is the 44th and current President of the United States. He is the first African American to hold the office and the first president born outside the continental United States. Born in Honolulu, Hawaii, Obama is a graduate of Columbia University and Harvard Law School, where he was president of the Harvard Law Review. He was a community organizer in Chicago before earning his law degree. He worked as a civil rights attorney and taught constitutional law at the University of Chicago Law School between 1992 and 2004. While serving three terms representing the 13th District in the Illinois Senate from 1997 to 2004, he ran unsuccessfully in the Democratic primary for the United States Hou\"\n",
    "#print(sent_tokenize(text))\n",
    "\n",
    "parser = CoreNLPParser()\n",
    "for sent in list(sent_tokenize(text)):\n",
    "    tree = list(parser.raw_parse(sent))[0]\n",
    "    print(sent)\n",
    "    ptree=ParentedTree.convert(tree)\n",
    "    triple= textraction.main(ParentedTree.convert(tree))\n",
    "    print(triple)"
   ]
  },
  {
   "cell_type": "code",
   "execution_count": 164,
   "metadata": {},
   "outputs": [
    {
     "name": "stdout",
     "output_type": "stream",
     "text": [
      "(ROOT\n",
      "  (S\n",
      "    (NP (NNP Barack) (NNP Hussein) (NNP Obama) (NNP II))\n",
      "    (VP\n",
      "      (VBZ is)\n",
      "      (NP\n",
      "        (NP (DT an) (JJ American) (NN politician))\n",
      "        (SBAR\n",
      "          (WHNP (WP who))\n",
      "          (S\n",
      "            (VP\n",
      "              (VBZ is)\n",
      "              (NP\n",
      "                (NP\n",
      "                  (DT the)\n",
      "                  (JJ 44th)\n",
      "                  (CC and)\n",
      "                  (JJ current)\n",
      "                  (NN President))\n",
      "                (PP (IN of) (NP (DT the) (NNP United) (NNPS States)))))))))\n",
      "    (. .)))\n"
     ]
    }
   ],
   "source": [
    "tree = list(parser.raw_parse(\"Barack Hussein Obama II is an American politician who is the 44th and current President of the United States.\"))[0]\n",
    "#tree = list(parser.raw_parse(sent))[0]\n",
    "print(tree)"
   ]
  },
  {
   "cell_type": "code",
   "execution_count": null,
   "metadata": {},
   "outputs": [],
   "source": []
  },
  {
   "cell_type": "code",
   "execution_count": null,
   "metadata": {},
   "outputs": [],
   "source": []
  },
  {
   "cell_type": "code",
   "execution_count": null,
   "metadata": {},
   "outputs": [],
   "source": []
  },
  {
   "cell_type": "code",
   "execution_count": null,
   "metadata": {},
   "outputs": [],
   "source": []
  }
 ],
 "metadata": {
  "kernelspec": {
   "display_name": "Python 3",
   "language": "python",
   "name": "python3"
  },
  "language_info": {
   "codemirror_mode": {
    "name": "ipython",
    "version": 3
   },
   "file_extension": ".py",
   "mimetype": "text/x-python",
   "name": "python",
   "nbconvert_exporter": "python",
   "pygments_lexer": "ipython3",
   "version": "3.7.6"
  }
 },
 "nbformat": 4,
 "nbformat_minor": 2
}
