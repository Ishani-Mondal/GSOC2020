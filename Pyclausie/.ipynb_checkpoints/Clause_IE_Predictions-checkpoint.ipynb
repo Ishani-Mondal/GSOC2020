{
 "cells": [
  {
   "cell_type": "code",
   "execution_count": 1,
   "metadata": {},
   "outputs": [],
   "source": [
    "from pyclausie import ClausIE\n",
    "cl = ClausIE.get_instance()\n",
    "\n"
   ]
  },
  {
   "cell_type": "code",
   "execution_count": 8,
   "metadata": {},
   "outputs": [
    {
     "name": "stdout",
     "output_type": "stream",
     "text": [
      "'1' 'Barack Hussein Obama II' 'is' 'an American politician')\n",
      "'1' 'an American politician' 'is' 'the 44th and current President of the United States')\n",
      "'1' 'an American politician' 'is' 'the 44th and current President')\n",
      "'2' 'He' 'is' 'the first African American to hold the office and the first president born outside the continental United States')\n",
      "'2' 'the first president' 'be born' 'outside the continental United States')\n",
      "'3' 'a graduate of Columbia University and Harvard Law School where he was president of the Harvard Law Review' 'be Born' 'in Honolulu Hawaii')\n",
      "'3' 'Obama' 'is' 'a graduate Born in Honolulu Hawaii')\n",
      "'3' 'Obama' 'is' 'a graduate of Columbia University and Harvard Law School')\n",
      "'3' 'Obama' 'is' 'a graduate where he was president of the Harvard Law Review')\n",
      "'3' 'Obama' 'is' 'a graduate')\n",
      "'3' 'he' 'was' 'president where')\n",
      "'3' 'he' 'was' 'president of the Harvard Law Review')\n",
      "'3' 'he' 'was' 'president')\n",
      "'4' 'He' 'was' 'a community organizer in Chicago')\n",
      "'4' 'He' 'was' 'a community organizer before earning his law degree')\n",
      "'4' 'He' 'was' 'a community organizer')\n",
      "'4' 'his' 'has' 'law degree')\n",
      "'5' 'He' 'worked' 'as a civil rights attorney')\n",
      "'5' 'He' 'taught' 'constitutional law at the University of Chicago Law School between 1992 and 2004')\n",
      "'5' 'He' 'taught' 'constitutional law')\n",
      "'6' 'three terms' 'be representing' 'the 13th District in the Illinois Senate from 1997 to 2004')\n",
      "'6' 'he' 'ran' 'unsuccessfully While serving three terms representing the 13th District in the Illinois Senate from 1997 to 2004')\n",
      "'6' 'he' 'ran' 'unsuccessfully in the Democratic primary for the United States Hou')\n",
      "'6' 'he' 'ran' 'unsuccessfully')\n"
     ]
    }
   ],
   "source": [
    "import spacy\n",
    "nlp=spacy.load('en')\n",
    "f=open('./input_data/Obama_abstract.txt')\n",
    "content=f.read()\n",
    "#print(content)\n",
    "\n",
    "doc=nlp(content)\n",
    "#doc = nlp(\"Barack Hussein Obama II is an American politician who is the 44th and current President of the United States. He is the first African American to hold the office and the first president born outside the continental United States. Born in Honolulu, Hawaii, Obama is a graduate of Columbia University and Harvard Law School, where he was president of the Harvard Law Review. He was a community organizer in Chicago before earning his law degree. He worked as a civil rights attorney and taught constitutional law at the University of Chicago Law School between 1992 and 2004. While serving three terms representing the 13th District in the Illinois Senate from 1997 to 2004, he ran unsuccessfully in the Democratic primary for the United States Hou\")\n",
    "\n",
    "#sents = ['Barack Hussein Obama II (US /bəˈrɑːk huːˈseɪn oʊˈbɑːmə/; born August 4, 1961) is an American politician who is the 44th and current President of the United States. He is the first African American to hold the office and the first president born outside the continental United States. Born in Honolulu, Hawaii, Obama is a graduate of Columbia University and Harvard Law School, where he was president of the Harvard Law Review. He was a community organizer in Chicago before earning his law degree. He worked as a civil rights attorney and taught constitutional law at the University of Chicago Law School between 1992 and 2004. While serving three terms representing the 13th District in the Illinois Senate from 1997 to 2004, he ran unsuccessfully in the Democratic primary for the United States Hou']\n",
    "\n",
    "sents=[]\n",
    "\n",
    "for sent in doc.sents:\n",
    "    \n",
    "    sents.append(sent.text)\n",
    "    \n",
    "#print(sents)\n",
    "triples = cl.extract_triples(sents)\n",
    "for triple in triples:\n",
    "    #print(\"===============\")\n",
    "    print(str(triple).split(\",\")[0].split(\"=\")[1], str(triple).split(\",\")[1].split(\"=\")[1],str(triple).split(\",\")[2].split(\"=\")[1], str(triple).split(\",\")[3].split(\"=\")[1])\n",
    "    #print(triple)\n"
   ]
  },
  {
   "cell_type": "code",
   "execution_count": null,
   "metadata": {},
   "outputs": [],
   "source": []
  },
  {
   "cell_type": "code",
   "execution_count": null,
   "metadata": {},
   "outputs": [],
   "source": []
  },
  {
   "cell_type": "code",
   "execution_count": null,
   "metadata": {},
   "outputs": [],
   "source": []
  },
  {
   "cell_type": "code",
   "execution_count": null,
   "metadata": {},
   "outputs": [],
   "source": []
  }
 ],
 "metadata": {
  "kernelspec": {
   "display_name": "Python 3",
   "language": "python",
   "name": "python3"
  },
  "language_info": {
   "codemirror_mode": {
    "name": "ipython",
    "version": 3
   },
   "file_extension": ".py",
   "mimetype": "text/x-python",
   "name": "python",
   "nbconvert_exporter": "python",
   "pygments_lexer": "ipython3",
   "version": "3.7.6"
  }
 },
 "nbformat": 4,
 "nbformat_minor": 4
}
