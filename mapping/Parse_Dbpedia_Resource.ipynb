{
 "cells": [
  {
   "cell_type": "code",
   "execution_count": 15,
   "metadata": {},
   "outputs": [],
   "source": [
    "import json\n",
    "with open('Obama_Json.json') as f:\n",
    "    data = json.load(f)"
   ]
  },
  {
   "cell_type": "code",
   "execution_count": 19,
   "metadata": {},
   "outputs": [],
   "source": [
    "resource_dict={}\n",
    "classes_dict={}\n",
    "\n",
    "for elem in data['Resources']:\n",
    "    resource_dict[elem['@surfaceForm']]=elem['@URI']\n",
    "    classes_dict[elem['@surfaceForm']]=\"Classes:\"+str(str(elem['@types']).split(\"DBpedia:\")[1:])"
   ]
  },
  {
   "cell_type": "code",
   "execution_count": 20,
   "metadata": {},
   "outputs": [
    {
     "data": {
      "text/plain": [
       "{'Barack Hussein Obama II': \"Classes:['President,', 'Politician,', 'Person,', 'Agent']\",\n",
       " 'American': \"Classes:['PopulatedPlace,', 'Place,', 'Location,', 'Country']\",\n",
       " 'President': 'Classes:[]',\n",
       " 'United States': \"Classes:['PopulatedPlace,', 'Place,', 'Location,', 'Country']\",\n",
       " 'African American': \"Classes:['EthnicGroup']\",\n",
       " 'continental United States': 'Classes:[]',\n",
       " 'Honolulu, Hawaii': \"Classes:['Settlement,', 'PopulatedPlace,', 'Place,', 'Location,', 'City']\",\n",
       " 'Obama': \"Classes:['President,', 'Politician,', 'Person,', 'Agent']\",\n",
       " 'Columbia University': \"Classes:['School,', 'Organisation,', 'EducationalInstitution,', 'Agent']\",\n",
       " 'Harvard Law School': 'Classes:[]',\n",
       " 'Harvard Law Review': \"Classes:['WrittenWork,', 'Work,', 'PeriodicalLiterature,', 'AcademicJournal']\",\n",
       " 'community organizer': 'Classes:[]',\n",
       " 'civil rights': 'Classes:[]',\n",
       " 'constitutional law': 'Classes:[]',\n",
       " 'Illinois Senate': \"Classes:['Organisation,', 'Legislature,', 'Agent']\",\n",
       " 'Democratic': \"Classes:['PoliticalParty,', 'Organisation,', 'Agent']\"}"
      ]
     },
     "execution_count": 20,
     "metadata": {},
     "output_type": "execute_result"
    }
   ],
   "source": [
    "classes_dict"
   ]
  },
  {
   "cell_type": "code",
   "execution_count": 21,
   "metadata": {},
   "outputs": [
    {
     "data": {
      "text/plain": [
       "{'Barack Hussein Obama II': 'http://dbpedia.org/resource/Barack_Obama',\n",
       " 'American': 'http://dbpedia.org/resource/United_States',\n",
       " 'President': 'http://dbpedia.org/resource/President_of_the_United_States',\n",
       " 'United States': 'http://dbpedia.org/resource/United_States',\n",
       " 'African American': 'http://dbpedia.org/resource/African_Americans',\n",
       " 'continental United States': 'http://dbpedia.org/resource/Contiguous_United_States',\n",
       " 'Honolulu, Hawaii': 'http://dbpedia.org/resource/Honolulu',\n",
       " 'Obama': 'http://dbpedia.org/resource/Barack_Obama',\n",
       " 'Columbia University': 'http://dbpedia.org/resource/Columbia_Law_School',\n",
       " 'Harvard Law School': 'http://dbpedia.org/resource/Harvard_Law_School',\n",
       " 'Harvard Law Review': 'http://dbpedia.org/resource/Harvard_Law_Review',\n",
       " 'community organizer': 'http://dbpedia.org/resource/Community_organizing',\n",
       " 'civil rights': 'http://dbpedia.org/resource/Civil_and_political_rights',\n",
       " 'constitutional law': 'http://dbpedia.org/resource/Constitutional_law',\n",
       " 'Illinois Senate': 'http://dbpedia.org/resource/Illinois_Senate',\n",
       " 'Democratic': 'http://dbpedia.org/resource/California_Democratic_Party'}"
      ]
     },
     "execution_count": 21,
     "metadata": {},
     "output_type": "execute_result"
    }
   ],
   "source": [
    "resource_dict"
   ]
  },
  {
   "cell_type": "code",
   "execution_count": 22,
   "metadata": {},
   "outputs": [],
   "source": [
    "import json\n",
    "with open('Obama_Candidates_Json.json') as f:\n",
    "    data = json.load(f)"
   ]
  },
  {
   "cell_type": "code",
   "execution_count": 42,
   "metadata": {},
   "outputs": [
    {
     "name": "stdout",
     "output_type": "stream",
     "text": [
      "African American Wikidata:Q41710, DBpedia:EthnicGroup\n",
      "United States Wikidata:Q6256, Schema:Place, Schema:Country, DBpedia:PopulatedPlace, DBpedia:Place, DBpedia:Location, DBpedia:Country\n",
      "Illinois Senate Wikidata:Q43229, Wikidata:Q24229398, Wikidata:Q11204, DUL:SocialPerson, DUL:Agent, Schema:Organization, DBpedia:Organisation, DBpedia:Legislature, DBpedia:Agent\n",
      "civil rights \n",
      "Honolulu, Hawaii Wikidata:Q515, Wikidata:Q486972, Schema:Place, Schema:City, DBpedia:Settlement, DBpedia:PopulatedPlace, DBpedia:Place, DBpedia:Location, DBpedia:City\n",
      "constitutional law \n",
      "President \n",
      "community organizer \n",
      "Harvard Law School \n",
      "continental United States \n",
      "United States Wikidata:Q6256, Schema:Place, Schema:Country, DBpedia:PopulatedPlace, DBpedia:Place, DBpedia:Location, DBpedia:Country\n",
      "American Wikidata:Q6256, Schema:Place, Schema:Country, DBpedia:PopulatedPlace, DBpedia:Place, DBpedia:Location, DBpedia:Country\n",
      "Harvard Law Review Wikidata:Q737498, Wikidata:Q386724, Wikidata:Q1092563, Schema:CreativeWork, DBpedia:WrittenWork, DBpedia:Work, DBpedia:PeriodicalLiterature, DBpedia:AcademicJournal\n",
      "Columbia University Wikidata:Q43229, Wikidata:Q3914, Wikidata:Q24229398, DUL:SocialPerson, DUL:Agent, Schema:School, Schema:Organization, Schema:EducationalOrganization, DBpedia:School, DBpedia:Organisation, DBpedia:EducationalInstitution, DBpedia:Agent\n",
      "Obama Http://xmlns.com/foaf/0.1/Person, Wikidata:Q82955, Wikidata:Q5, Wikidata:Q30461, Wikidata:Q24229398, Wikidata:Q215627, DUL:NaturalPerson, DUL:Agent, Schema:Person, DBpedia:President, DBpedia:Politician, DBpedia:Person, DBpedia:Agent\n",
      "Democratic Wikidata:Q7278, Wikidata:Q43229, Wikidata:Q24229398, DUL:SocialPerson, DUL:Agent, Schema:Organization, DBpedia:PoliticalParty, DBpedia:Organisation, DBpedia:Agent\n"
     ]
    }
   ],
   "source": [
    "for elem in data['annotation']['surfaceForm']:\n",
    "    if(elem['@name'] in list(resource_dict.keys())):\n",
    "        print(elem['@name'], elem['resource']['@types'])"
   ]
  },
  {
   "cell_type": "code",
   "execution_count": null,
   "metadata": {},
   "outputs": [],
   "source": []
  },
  {
   "cell_type": "code",
   "execution_count": null,
   "metadata": {},
   "outputs": [],
   "source": []
  }
 ],
 "metadata": {
  "kernelspec": {
   "display_name": "Python 3",
   "language": "python",
   "name": "python3"
  },
  "language_info": {
   "codemirror_mode": {
    "name": "ipython",
    "version": 3
   },
   "file_extension": ".py",
   "mimetype": "text/x-python",
   "name": "python",
   "nbconvert_exporter": "python",
   "pygments_lexer": "ipython3",
   "version": "3.7.6"
  }
 },
 "nbformat": 4,
 "nbformat_minor": 4
}
